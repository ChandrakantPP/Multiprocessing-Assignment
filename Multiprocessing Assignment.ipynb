{
 "cells": [
  {
   "cell_type": "markdown",
   "id": "93a4f877-0020-4a5e-99f5-243982313906",
   "metadata": {},
   "source": [
    "Q.1 What is multiprocessing in python? Why is it useful?"
   ]
  },
  {
   "cell_type": "markdown",
   "id": "e76502d9-df20-422c-8a8c-1a4ebc0fca33",
   "metadata": {},
   "source": [
    "Ans:- Multiprocessing:- that allows the system to run multiple processes simultaneously. "
   ]
  },
  {
   "cell_type": "markdown",
   "id": "2db5a352-93b0-4f2e-8b18-c440f3e16bc2",
   "metadata": {},
   "source": [
    "# why is it useful\n",
    "multiprocessing is a package that supports spawning processes using an API similar to the threading module. "
   ]
  },
  {
   "cell_type": "markdown",
   "id": "f2377523-9aba-4e6e-b120-cd78d7329a56",
   "metadata": {},
   "source": [
    "Q.2 What are the differences between multiprocessing and multithreading?"
   ]
  },
  {
   "cell_type": "raw",
   "id": "40664528-aa0f-46dd-b37b-1ba038ce2464",
   "metadata": {},
   "source": [
    "Multiprocessing:- multiprocessing refers to the ability of a system to run multiple processors in parallel, where each processor can run one or more threads.\n",
    "Mulithreading:- multithreading refers to the ability of a processor to execute multiple threads concurrently, where each thread runs a process."
   ]
  },
  {
   "cell_type": "markdown",
   "id": "f36d9c63-3b01-4806-88dc-cdc9a85b6f5b",
   "metadata": {},
   "source": [
    "Q.3 Write a python code to create a process using the multiprocessing module."
   ]
  },
  {
   "cell_type": "code",
   "execution_count": 2,
   "id": "114410b6-bdab-4017-8cc5-78d0b21fc962",
   "metadata": {},
   "outputs": [
    {
     "name": "stdout",
     "output_type": "stream",
     "text": [
      "this is main programme\n",
      "this is my multiprocessing programme\n"
     ]
    }
   ],
   "source": [
    "import multiprocessing\n",
    "def test():\n",
    "    print(\"this is my multiprocessing programme\")\n",
    "    \n",
    "if __name__ == \"__main__\":\n",
    "    m=multiprocessing.Process(target=test)\n",
    "    print(\"this is main programme\")\n",
    "    m.start()\n",
    "    m.join()"
   ]
  },
  {
   "cell_type": "markdown",
   "id": "b071bc38-c363-4ebf-baa1-ad12624bea7c",
   "metadata": {},
   "source": [
    "Q4. What is a multiprocessing pool in python? Why is it used?"
   ]
  },
  {
   "cell_type": "markdown",
   "id": "20f4f762-3b67-4cd5-8342-c64206f1e930",
   "metadata": {},
   "source": [
    "Ans:- multiprocessing pool:-used for parallel execution of a function across multiple input values, distributing the input data across processes."
   ]
  },
  {
   "cell_type": "markdown",
   "id": "8bdcfc51-b222-4581-a51e-07b2766212a3",
   "metadata": {},
   "source": [
    "## why is it used\n",
    "multiprocessing Pool can be used for parallel execution of a function across multiple input values."
   ]
  },
  {
   "cell_type": "markdown",
   "id": "f3e04c91-8b6b-4430-9c8a-f0572006faea",
   "metadata": {},
   "source": [
    "Q5. How can we create a pool of worker processes in python using the multiprocessing module?"
   ]
  },
  {
   "cell_type": "code",
   "execution_count": 5,
   "id": "565bbf5f-46d2-4903-bd0d-b50904ff0d10",
   "metadata": {},
   "outputs": [
    {
     "name": "stdout",
     "output_type": "stream",
     "text": [
      "[0, 1, 4, 9, 16, 25, 36, 49, 64, 81]\n",
      "0\n",
      "4\n",
      "9\n",
      "1\n",
      "16\n",
      "25\n",
      "36\n",
      "81\n",
      "49\n",
      "64\n",
      "400\n",
      "2236\n",
      "[2237, 2235, 2237, 2235]\n",
      "We lacked patience and got a multiprocessing.TimeoutError\n",
      "For the moment, the pool remains available for more work\n",
      "Now the pool is closed and no longer available\n"
     ]
    }
   ],
   "source": [
    "from multiprocessing import Pool, TimeoutError\n",
    "import time\n",
    "import os\n",
    "def f(x):\n",
    "    return x*x\n",
    "\n",
    "if __name__ == '__main__':\n",
    "    with Pool(processes=4) as pool:\n",
    "\n",
    "        print(pool.map(f, range(10)))\n",
    "\n",
    "        for i in pool.imap_unordered(f, range(10)):\n",
    "            print(i)\n",
    "\n",
    "        res = pool.apply_async(f, (20,))      \n",
    "        print(res.get(timeout=1))             \n",
    "\n",
    "        res = pool.apply_async(os.getpid, ()) \n",
    "        print(res.get(timeout=1))            \n",
    "\n",
    "        multiple_results = [pool.apply_async(os.getpid, ()) for i in range(4)]\n",
    "        print([res.get(timeout=1) for res in multiple_results])\n",
    "\n",
    "        res = pool.apply_async(time.sleep, (10,))\n",
    "        try:\n",
    "            print(res.get(timeout=1))\n",
    "        except TimeoutError:\n",
    "            print(\"We lacked patience and got a multiprocessing.TimeoutError\")\n",
    "\n",
    "        print(\"For the moment, the pool remains available for more work\")\n",
    "\n",
    "    print(\"Now the pool is closed and no longer available\")"
   ]
  },
  {
   "cell_type": "markdown",
   "id": "69870691-9abc-415f-bd37-c6c3f49cbd38",
   "metadata": {},
   "source": [
    "Q6. Write a python program to create 4 processes, each process should print a different number using the\n",
    "multiprocessing module in python."
   ]
  },
  {
   "cell_type": "code",
   "execution_count": 6,
   "id": "136413f2-f37a-4ffb-a838-ffa074e6535f",
   "metadata": {},
   "outputs": [
    {
     "name": "stdout",
     "output_type": "stream",
     "text": [
      "this is my first process\n",
      "this is my second process\n",
      "this is my third process\n",
      "this is my fourth process\n"
     ]
    }
   ],
   "source": [
    "import multiprocessing\n",
    "def test1():\n",
    "    print(\"this is my first process\")\n",
    "\n",
    "def test2():\n",
    "    print(\"this is my second process\")\n",
    "\n",
    "def test3():\n",
    "    print(\"this is my third process\")\n",
    "    \n",
    "def test4():\n",
    "    print(\"this is my fourth process\")\n",
    "    \n",
    "if __name__ == \"__main__\":\n",
    "    m1=multiprocessing.Process(target=test1)\n",
    "    m2=multiprocessing.Process(target=test2)\n",
    "    m3=multiprocessing.Process(target=test3)\n",
    "    m4=multiprocessing.Process(target=test4)\n",
    "    m1.start()\n",
    "    m2.start()\n",
    "    m3.start()\n",
    "    m4.start()\n",
    "    m1.join()\n",
    "    m2.join()\n",
    "    m3.join()\n",
    "    m4.join()"
   ]
  }
 ],
 "metadata": {
  "kernelspec": {
   "display_name": "Python 3 (ipykernel)",
   "language": "python",
   "name": "python3"
  },
  "language_info": {
   "codemirror_mode": {
    "name": "ipython",
    "version": 3
   },
   "file_extension": ".py",
   "mimetype": "text/x-python",
   "name": "python",
   "nbconvert_exporter": "python",
   "pygments_lexer": "ipython3",
   "version": "3.10.8"
  }
 },
 "nbformat": 4,
 "nbformat_minor": 5
}
